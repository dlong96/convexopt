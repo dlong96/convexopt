{
 "cells": [
  {
   "cell_type": "code",
   "execution_count": 2,
   "metadata": {
    "collapsed": true
   },
   "outputs": [],
   "source": [
    "import numpy as np\n",
    "import matplotlib.pyplot as plt\n",
    "from scipy.stats import norm\n",
    "%matplotlib inline"
   ]
  },
  {
   "cell_type": "markdown",
   "metadata": {},
   "source": [
    "Task 1"
   ]
  },
  {
   "cell_type": "code",
   "execution_count": 3,
   "metadata": {
    "collapsed": true
   },
   "outputs": [],
   "source": [
    "np.random.seed(0)"
   ]
  },
  {
   "cell_type": "code",
   "execution_count": 4,
   "metadata": {
    "collapsed": true
   },
   "outputs": [],
   "source": [
    "n, p = 100, .5 \n",
    "binomail = np.random.binomial(n, p, 10000)"
   ]
  },
  {
   "cell_type": "code",
   "execution_count": 5,
   "metadata": {},
   "outputs": [
    {
     "name": "stdout",
     "output_type": "stream",
     "text": [
      "the mean value is 50.0949 the standard deviation is 5.00406774435\n"
     ]
    }
   ],
   "source": [
    "Value=np.zeros(10000)*0.1 #avoid situtaion when total value is 0\n",
    "\"X is a binary vector of 0 and 1 of length 100 with binomial distribution\"\n",
    "\"Value is a vector of 10000 sum of X\"\n",
    "for i in range(10000):    \n",
    "    X=np.random.binomial(1, .5, 100)\n",
    "    Value[i]=sum(X)\n",
    "(V_mean,V_std)=np.mean(Value),np.std(Value)\n",
    "print(\"the mean value is\", V_mean,\"the standard deviation is\", V_std)"
   ]
  },
  {
   "cell_type": "code",
   "execution_count": 6,
   "metadata": {
    "collapsed": true
   },
   "outputs": [],
   "source": [
    "x = np.linspace(20, 100, 80)"
   ]
  },
  {
   "cell_type": "code",
   "execution_count": 7,
   "metadata": {},
   "outputs": [
    {
     "data": {
      "image/png": "[encoded data removed]",
      "text/plain": [
       "<matplotlib.figure.Figure at 0x1a137cbef0>"
      ]
     },
     "metadata": {},
     "output_type": "display_data"
    }
   ],
   "source": [
    "plt.hist(Value, bins=20, alpha=0.5,density='true',label='random generated')\n",
    "plt.hist(binomail, bins=20,color='orange',alpha=0.5,density='true',label='Binomial Law')\n",
    "\n",
    "plt.plot(x,norm.pdf(x, loc=V_mean, scale=V_std),'r-', lw=2,label='Normal Distribution')\n",
    "plt.legend(bbox_to_anchor=(0,1, 1 ,0.1), loc=3,\n",
    "           ncol=1)\n",
    "\n",
    "#mean 𝜇 and the standard deviation 𝜎,\n",
    "plt.axvline(x=V_mean)\n",
    "plt.axvline(x=V_mean - V_std)\n",
    "plt.axvline(x=V_mean + V_std)\n",
    "\n",
    "plt.show()"
   ]
  },
  {
   "cell_type": "markdown",
   "metadata": {},
   "source": [
    "Task 2\n",
    "\n",
    "\n",
    "Here, consider an M-fold repetition of the random guess made in task 1. \n",
    "So, you simply draw an ensemble of M such bit strings (𝒙 1 , 𝒙 2 , … ), \n",
    "each with N bits, and evaluate the strings separately, \n",
    "which results in a tuple of M values (𝑉(𝒙 1 ), 𝑉(𝒙 2 ), … ). \n",
    "From this tuple, you pick the highest value.\n",
    "\n",
    "I chose M=100;M=10"
   ]
  },
  {
   "cell_type": "code",
   "execution_count": 17,
   "metadata": {
    "collapsed": true
   },
   "outputs": [],
   "source": [
    "m=100"
   ]
  },
  {
   "cell_type": "code",
   "execution_count": 18,
   "metadata": {
    "collapsed": true
   },
   "outputs": [],
   "source": [
    "h =np.zeros(10000)\n",
    "for i in range(10000):\n",
    "    \"have the sum vector from above, randomly pick m-fold index, \\\n",
    "    and take the max of m-fold, repeat 1000 times\"\n",
    "    y = np.zeros(m)\n",
    "    for j in range(m):\n",
    "        index = np.random.randint(0, 10000, 1)\n",
    "        y[j] = Value[index]\n",
    "    h[i]=np.max(y)\n",
    "    \n"
   ]
  },
  {
   "cell_type": "code",
   "execution_count": 19,
   "metadata": {},
   "outputs": [
    {
     "name": "stdout",
     "output_type": "stream",
     "text": [
      "the mean value is 62.7392 the standard deviation is 2.25388184251\n"
     ]
    },
    {
     "data": {
      "image/png": "[encoded data removed]",
      "text/plain": [
       "<matplotlib.figure.Figure at 0x1a1bf8ff60>"
      ]
     },
     "metadata": {},
     "output_type": "display_data"
    }
   ],
   "source": [
    "\n",
    "plt.hist(h,range=(50, 100),density='true',bins=50,label = '100tuples')\n",
    "(h_mean,h_std)=np.mean(h),np.std(h)\n",
    "\n",
    "x = np.linspace(50, 100, 50)\n",
    "maxvalue_pdf = 100 * norm.pdf(x,loc=V_mean, scale=V_std) * (norm.cdf(x,loc=V_mean, scale=V_std) ** (100-1))\n",
    "\n",
    "plt.plot(x, maxvalue_pdf,'r',label = 'Normal Distribution')\n",
    "\n",
    "print(\"the mean value is\", h_mean,\"the standard deviation is\", h_std)"
   ]
  },
  {
   "cell_type": "markdown",
   "metadata": {
    "collapsed": true
   },
   "source": [
    "The mean value is 62, when M=100\n",
    "\n",
    "The mean value is around 59, when M=10\n",
    "\n",
    "The original mean value is around 50"
   ]
  },
  {
   "cell_type": "code",
   "execution_count": null,
   "metadata": {
    "collapsed": true
   },
   "outputs": [],
   "source": []
  },
  {
   "cell_type": "code",
   "execution_count": null,
   "metadata": {
    "collapsed": true
   },
   "outputs": [],
   "source": []
  }
 ],
 "metadata": {
  "kernelspec": {
   "display_name": "Python 3",
   "language": "python",
   "name": "python3"
  },
  "language_info": {
   "codemirror_mode": {
    "name": "ipython",
    "version": 3
   },
   "file_extension": ".py",
   "mimetype": "text/x-python",
   "name": "python",
   "nbconvert_exporter": "python",
   "pygments_lexer": "ipython3",
   "version": "3.6.3"
  }
 },
 "nbformat": 4,
 "nbformat_minor": 2
}
